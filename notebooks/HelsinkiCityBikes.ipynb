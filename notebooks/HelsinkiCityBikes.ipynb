{
 "cells": [
  {
   "cell_type": "markdown",
   "metadata": {},
   "source": [
    "# Helsinki City Bikes EDA"
   ]
  },
  {
   "cell_type": "markdown",
   "metadata": {},
   "source": [
    "An exploration of the Kaggle Helsinki City Bikes database to extract meaningful data on Rides per Hour, departure locations, Ride distances, map locations ect.\n"
   ]
  },
  {
   "cell_type": "code",
   "execution_count": 1,
   "metadata": {},
   "outputs": [],
   "source": [
    "# import modules\n",
    "import pandas as pd\n",
    "import numpy as np\n",
    "import seaborn as sns\n",
    "import matplotlib.pyplot as plt"
   ]
  },
  {
   "cell_type": "code",
   "execution_count": 2,
   "metadata": {},
   "outputs": [],
   "source": [
    "dataframe = pd.read_csv(\"../raw_data/database.csv\", low_memory=False)\n"
   ]
  },
  {
   "cell_type": "code",
   "execution_count": null,
   "metadata": {},
   "outputs": [],
   "source": [
    "df = dataframe.copy()"
   ]
  },
  {
   "cell_type": "code",
   "execution_count": null,
   "metadata": {},
   "outputs": [],
   "source": [
    "df.shape\n"
   ]
  },
  {
   "cell_type": "code",
   "execution_count": null,
   "metadata": {},
   "outputs": [],
   "source": [
    "df.isna().sum()"
   ]
  },
  {
   "cell_type": "code",
   "execution_count": null,
   "metadata": {},
   "outputs": [],
   "source": [
    "df.dropna(inplace=True)"
   ]
  },
  {
   "cell_type": "code",
   "execution_count": null,
   "metadata": {},
   "outputs": [],
   "source": [
    "df[['departure','return']] =  df[['departure','return']].apply(pd.to_datetime, format='%Y-%m-%d %H:%M:%S.%f')"
   ]
  },
  {
   "cell_type": "markdown",
   "metadata": {},
   "source": [
    "#### Rename Columns"
   ]
  },
  {
   "cell_type": "code",
   "execution_count": null,
   "metadata": {},
   "outputs": [],
   "source": [
    "df = df.rename(columns={'distance (m)': 'distance',\n",
    "                                     'duration (sec.)': 'duration',\n",
    "                                     'avg_speed (km/h)':'speed',\n",
    "                                      'Air temperature (degC)':'temperature',\n",
    "                                     })"
   ]
  },
  {
   "cell_type": "code",
   "execution_count": null,
   "metadata": {},
   "outputs": [],
   "source": [
    "pd.set_option('display.float_format', lambda x: '%.3f' % x)\n",
    "df[[\"distance\", \"duration\", \"temperature\"]].describe()"
   ]
  },
  {
   "cell_type": "markdown",
   "metadata": {},
   "source": [
    "### Removing Extreme Values"
   ]
  },
  {
   "cell_type": "markdown",
   "metadata": {},
   "source": [
    "removing distances less than 50m and longer than 10K, and removing durations less than 60 secs and more than a hour."
   ]
  },
  {
   "cell_type": "code",
   "execution_count": null,
   "metadata": {},
   "outputs": [],
   "source": [
    "df = df[(df['distance'] > 50) & (df['distance'] < 10000) &\n",
    "        (60 < df['duration']) & (df['duration'] <  3600)]"
   ]
  },
  {
   "cell_type": "code",
   "execution_count": null,
   "metadata": {},
   "outputs": [],
   "source": [
    "pd.set_option('display.float_format', lambda x: '%.3f' % x)\n",
    "df[[\"distance\", \"duration\", \"temperature\"]].describe()"
   ]
  },
  {
   "cell_type": "code",
   "execution_count": null,
   "metadata": {},
   "outputs": [],
   "source": [
    "df.shape"
   ]
  },
  {
   "cell_type": "markdown",
   "metadata": {},
   "source": [
    "### Visualisating the data"
   ]
  },
  {
   "cell_type": "markdown",
   "metadata": {},
   "source": [
    "##### Dirtubution of Ride Distance"
   ]
  },
  {
   "cell_type": "markdown",
   "metadata": {},
   "source": [
    "What is the mean, median, min and max distrubution of Ride Distance and what is the biggest trends"
   ]
  },
  {
   "cell_type": "code",
   "execution_count": null,
   "metadata": {},
   "outputs": [],
   "source": [
    "df_distance = df.copy()\n",
    "\n",
    "fig = plt.figure(figsize=(15,7))\n",
    "ax = fig.add_axes([0.1, 0.1, 0.8, 0.8])\n",
    "\n",
    "distance = df_distance[\"distance\"]\n",
    "sns.histplot(distance, bins = 40)\n",
    "ax.grid(zorder=0, linestyle='dashed')\n",
    "\n",
    "# adding mean and median lines\n",
    "plt.axvline(distance.mean(), color='red', linestyle='-', linewidth=3 )\n",
    "plt.axvline(distance.median(), color='green', linestyle='-', linewidth=3 )\n",
    "plt.axvline(distance.min(), color='magenta', linestyle='-', linewidth=3 )\n",
    "plt.axvline(distance.max(), color='blue', linestyle='-', linewidth=3 )\n",
    "\n",
    "# mean, median, min, and max lines\n",
    "min_ylim, max_ylim = plt.ylim()\n",
    "plt.text(distance.mean()*1.1, max_ylim*0.95, 'Mean: {:.0f} metres'.format(distance.mean()), color = 'red',  fontsize= 16)\n",
    "plt.text(distance.median()*1.1, max_ylim*1.1, 'Median: {:.0f} metres'.format(distance.median()), color = 'green', fontsize= 16)\n",
    "plt.text(distance.min()+ 50, max_ylim*1.1, 'Min: {:.0f} metres'.format(distance.min()), color = 'magenta', fontsize= 16)\n",
    "plt.text(distance.max()-2100, max_ylim*1.1, 'Max: {:.0f} metres'.format(distance.max()), color = 'blue', fontsize= 16)\n",
    "\n",
    "# plot ticks\n",
    "ticks =range(0, 11000, 500)\n",
    "plt.xticks(ticks)\n",
    "ticks =range(0, 1600000, 100000)\n",
    "plt.yticks(ticks)\n",
    "\n",
    "# plot x,y labels\n",
    "plt.xlabel(\"Distance of Rides(Meters)\", fontsize= 12, x = 0.5)\n",
    "plt.ylabel(\"Number of Rides\", fontsize= 12)\n",
    "\n",
    "plt.title('Distrubution of Ride Distance', fontdict={\"fontsize\":16}, pad = 15);\n",
    "\n"
   ]
  },
  {
   "cell_type": "markdown",
   "metadata": {},
   "source": [
    "##### Distubution of Ride Duration"
   ]
  },
  {
   "cell_type": "markdown",
   "metadata": {},
   "source": [
    "What is the mean, median, min, and max distrubution of Ride Duation and what are the trends?"
   ]
  },
  {
   "cell_type": "code",
   "execution_count": null,
   "metadata": {},
   "outputs": [],
   "source": [
    "df_duration = df.copy()\n",
    "    \n",
    "# Converting seconds to minutes\n",
    "df_duration[\"duration\"] = df_duration[\"duration\"]/60\n",
    "    \n",
    "# Filtering relevant data\n",
    "duration = df_duration[\"duration\"]\n",
    "fig = plt.figure(figsize=(15,7))\n",
    "ax = fig.add_axes([0.1, 0.1, 0.8, 0.8])\n",
    "ax.grid(zorder=0, linestyle='dashed')\n",
    "sns.histplot(duration, bins= range(60))\n",
    "\n",
    "# adding mean and median lines\n",
    "plt.axvline(duration.mean(),color='red', linestyle='-', linewidth=3 )\n",
    "plt.axvline(duration.median(), color='green', linestyle='-', linewidth=3 )\n",
    "plt.axvline(duration.min(), color='magenta', linestyle='-', linewidth=3 )\n",
    "plt.axvline(duration.max(), color='blue', linestyle='-', linewidth=3 )\n",
    "\n",
    "# plot x,y labels\n",
    "plt.xlabel(\"Duration of Rides(Minutes)\", fontsize= 12, x = 0.5)\n",
    "plt.ylabel(\"Number of Rides\", fontsize= 12)\n",
    "\n",
    "# plot mean, median, min, and max lines\n",
    "min_ylim, max_ylim = plt.ylim()\n",
    "plt.text(duration.mean()*1.1, max_ylim*0.95, 'Mean: {:.0f} min'.format(duration.mean()), color = 'red',  fontsize= 16)\n",
    "plt.text(duration.median()*1.1, max_ylim*1.1, 'Median: {:.0f} min'.format(duration.median()), color = 'green', fontsize= 16)\n",
    "plt.text(duration.min()*1.8, max_ylim*1.1, 'Min: {:.0f} min'.format(duration.min()), color = 'magenta', fontsize= 16)\n",
    "plt.text(duration.max()-8, max_ylim*1.1, 'Max: {:.0f} min'.format(duration.max()), color = 'blue', fontsize= 16)\n",
    "\n",
    "# plot ticks\n",
    "ticks =range(0, 62, 2)\n",
    "plt.xticks(ticks)\n",
    "ticks =range(0, 1200000, 100000)\n",
    "plt.yticks(rotation=45)\n",
    "\n",
    "\n",
    "plt.title('Distrubution of Ride Duration', fontdict={\"fontsize\":16}, pad = 15);"
   ]
  },
  {
   "cell_type": "markdown",
   "metadata": {},
   "source": [
    "##### Number of rides over time"
   ]
  },
  {
   "cell_type": "code",
   "execution_count": null,
   "metadata": {},
   "outputs": [],
   "source": [
    "df_time = df.copy()\n",
    "df_time = df_time.groupby(df_time['departure'].dt.date).size().reset_index(name='count')\n",
    "# Figure\n",
    "fig, ax = plt.subplots(figsize=(24,9))\n",
    "ax = fig.add_axes([0.1, 0.1, 0.8, 0.8])\n",
    "ax.grid(zorder=0, linestyle='dashed')\n",
    "sns.lineplot(x = 'departure', y = 'count', data= df_time)\n",
    "\n",
    "# Labels\n",
    "ax.set_title(\"Number of trips over time\", fontsize= 20, pad= 20)\n",
    "ax.set_ylabel(\"Number of trips\", fontsize=15)\n",
    "ax.set_xlabel(\"Years\", fontsize=15)\n",
    "\n",
    "# Grid & Legend\n",
    "plt.grid(linestyle=\":\", color='grey')\n",
    "plt.legend([\"Number of trips\"])\n",
    "plt.yticks(rotation= 35)\n",
    "plt.xticks(rotation= 35)\n",
    "\n",
    "plt.show()"
   ]
  },
  {
   "cell_type": "markdown",
   "metadata": {},
   "source": [
    "#### Top 10 Departure Stations in 2020"
   ]
  },
  {
   "cell_type": "code",
   "execution_count": null,
   "metadata": {},
   "outputs": [],
   "source": [
    "df_departure = df.copy()\n",
    "departure = df_departure[df_departure['departure'].dt.year == 2020]\n",
    "\n",
    "# Figure\n",
    "sequential_colors = sns.color_palette(\"RdYlBu\", 11)\n",
    "fig = plt.figure(figsize=(20,9))\n",
    "ax = sns.countplot(x=\"departure_name\", data=departure, \n",
    "              order = departure['departure_name'].value_counts().index,\n",
    "              palette=sequential_colors)\n",
    "for container in ax.containers:\n",
    "    ax.bar_label(container)\n",
    "\n",
    "# Labeling Axes\n",
    "sns.despine()\n",
    "plt.xticks(rotation=35, ha=\"right\")\n",
    "plt.xlabel(\"Stations\", fontsize= 15)\n",
    "plt.ylabel(\"Number of Rides\", fontsize= 15, x = -100)\n",
    "plt.xlim(-1,10.5)\n",
    "\n",
    "# Adding Grid & Title\n",
    "plt.grid(linestyle=\"--\", color='grey')\n",
    "ax.set_title(\"Top 10 Departure Stations in 2020\", fontsize= 20, pad= 20)\n",
    "plt.show()"
   ]
  },
  {
   "cell_type": "markdown",
   "metadata": {},
   "source": [
    "#### Top 10 Arrival Stations in 2020"
   ]
  },
  {
   "cell_type": "code",
   "execution_count": null,
   "metadata": {},
   "outputs": [],
   "source": [
    "df_arrival = df.copy()\n",
    "arrival = df_arrival[df_arrival['return'].dt.year == 2020]\n",
    "\n",
    "\n",
    "# Figure\n",
    "sequential_colors = sns.color_palette(\"RdYlBu\", 11)\n",
    "fig = plt.figure(figsize=(20,9))\n",
    "ax = sns.countplot(x=\"return_name\", data=departure, \n",
    "              order = departure['return_name'].value_counts().index,\n",
    "              palette=sequential_colors)\n",
    "for container in ax.containers:\n",
    "    ax.bar_label(container)\n",
    "\n",
    "# Labeling Axes\n",
    "sns.despine()\n",
    "plt.xticks(rotation=35, ha=\"right\")\n",
    "plt.xlabel(\"Stations\", fontsize= 15)\n",
    "plt.ylabel(\"Number of Rides\", fontsize= 15, x = -100)\n",
    "plt.xlim(-1,10.5)\n",
    "\n",
    "# Adding Grid & Title\n",
    "plt.grid(linestyle=\"--\", color='grey')\n",
    "ax.set_title(\"Top 10 Arrival Stations in 2020\", fontsize= 20, pad= 20)\n",
    "plt.show()"
   ]
  },
  {
   "cell_type": "markdown",
   "metadata": {},
   "source": [
    "It seems that the first arrival and departure stations are the same which makes sense considering they are the most densly popultated areas in Helsinki."
   ]
  },
  {
   "cell_type": "markdown",
   "metadata": {},
   "source": [
    "#### Explore Map sections"
   ]
  },
  {
   "cell_type": "markdown",
   "metadata": {},
   "source": [
    "use taxifare model to import map and revise longitude and latitude."
   ]
  },
  {
   "cell_type": "code",
   "execution_count": null,
   "metadata": {},
   "outputs": [],
   "source": [
    "# import packages\n",
    "import folium\n",
    "from folium.plugins import HeatMap\n",
    "from folium.plugins import HeatMapWithTime"
   ]
  },
  {
   "cell_type": "code",
   "execution_count": null,
   "metadata": {},
   "outputs": [],
   "source": [
    "# set centre location for Helsinki\n",
    "center_location = [60.1699, 24.9384]\n",
    "m = folium.Map(location=center_location, control_scale=True, zoom_start=11)"
   ]
  },
  {
   "cell_type": "code",
   "execution_count": null,
   "metadata": {},
   "outputs": [],
   "source": [
    "# find extremes of location data\n",
    "for col in [\"departure_latitude\", \n",
    "            \"departure_longitude\", \"return_latitude\", \n",
    "            \"return_longitude\"]:\n",
    "    MIN = df[col].min()\n",
    "    MAX = df[col].max()\n",
    "    print(col, MIN, MAX)"
   ]
  },
  {
   "cell_type": "code",
   "execution_count": null,
   "metadata": {},
   "outputs": [],
   "source": [
    "# add a count to each row \n",
    "df[\"count\"] =1\n",
    "# assign variables to heatmap_data and add to Heatmap\n",
    "heatmap_data = df.head(1000000)[['departure_latitude', 'departure_longitude', 'count']].groupby(['departure_latitude', 'departure_longitude']).sum().reset_index().values.tolist()\n",
    "gradient = {0.1: 'blue', 0.15: 'lime', 0.2: 'orange', 0.4: 'red'}\n",
    "HeatMap(data=heatmap_data, radius=5, \n",
    "        gradient=gradient, max_zoom=13, \n",
    "        min_opacity= 0.5, max_opacity= 0.8).add_to(m)\n",
    "m"
   ]
  },
  {
   "cell_type": "markdown",
   "metadata": {},
   "source": [
    "#### Distubution of rides per hour"
   ]
  },
  {
   "cell_type": "code",
   "execution_count": null,
   "metadata": {},
   "outputs": [],
   "source": [
    "def extract_time_features(df):\n",
    "    '''This function extracts each hour, day, week ,and year\n",
    "    from the time column\n",
    "    '''\n",
    "    time_column = \"departure\"\n",
    "    df.index = pd.to_datetime(df[time_column])\n",
    "    \n",
    "    df[\"dow\"] = df.index.weekday\n",
    "    df[\"hour\"] = df.index.hour\n",
    "    df[\"month\"] = df.index.month\n",
    "    df[\"year\"] = df.index.year\n",
    "    return df.reset_index(drop=True)\n",
    "df = extract_time_features(df)"
   ]
  },
  {
   "cell_type": "code",
   "execution_count": null,
   "metadata": {},
   "outputs": [],
   "source": [
    "# plotting the catplot for distrubution of rides per hour of the day\n",
    "sns.catplot(x=\"hour\", kind=\"count\", data=df.head(100000), height=5, aspect=3, palette='mako');\n",
    "sns.despine()\n",
    "plt.title('Rides per Hour of the Day', fontsize= 15)\n",
    "plt.grid(linestyle=\"--\", color='grey')\n",
    "plt.ylim(0,14000)\n",
    "plt.yticks(rotation=45)\n",
    "\n",
    "plt.show()"
   ]
  },
  {
   "cell_type": "markdown",
   "metadata": {},
   "source": [
    "As expected, the most popular hours are between 13:00 and 19:00. This maybe due to sunlight levels in low winter which I will explore later on in the EDA."
   ]
  },
  {
   "cell_type": "markdown",
   "metadata": {},
   "source": [
    "#### Hour against Temperature"
   ]
  },
  {
   "cell_type": "markdown",
   "metadata": {},
   "source": [
    "#### Distubution of rides per day of the week"
   ]
  },
  {
   "cell_type": "code",
   "execution_count": null,
   "metadata": {},
   "outputs": [],
   "source": [
    "# plotting rideshare per day\n",
    "\n",
    "dow = sns.catplot(x=\"dow\", kind=\"count\", data=df.sample(100000), \n",
    "                 height=5, aspect=3,palette='mako');\n",
    "sns.despine()\n",
    "plt.ylim(0,21000)\n",
    "plt.grid(linestyle=\"--\", color='grey')\n",
    "plt.xlabel('Rides per Day of the Week')\n",
    "plt.title('Distrubution of Rides per Day of the Week')\n",
    "plt.ylabel('Number of Rides')\n",
    "plt.yticks(rotation = 35)\n",
    "dow.set_xticklabels(['Mon','Tues','Wed','Thurs','Fri','Sat','Sun'])\n",
    "plt.show()"
   ]
  },
  {
   "cell_type": "markdown",
   "metadata": {},
   "source": [
    "Unexpectedly, the most popular days for rental are Wednesday and Thursday. Lack of data to explain this."
   ]
  },
  {
   "cell_type": "markdown",
   "metadata": {},
   "source": [
    "#### Temperature distribution"
   ]
  },
  {
   "cell_type": "code",
   "execution_count": null,
   "metadata": {},
   "outputs": [],
   "source": [
    "temp_df = df.copy()"
   ]
  },
  {
   "cell_type": "code",
   "execution_count": null,
   "metadata": {},
   "outputs": [],
   "source": [
    "# rounding down temeratures to an integer\n",
    "temp_df['temperature'] = temp_df['temperature'].apply(np.floor)"
   ]
  },
  {
   "cell_type": "code",
   "execution_count": null,
   "metadata": {},
   "outputs": [],
   "source": [
    "# plotting the catplot for distrubution of rides per temperature\n",
    "sns.catplot(x=\"temperature\", kind=\"count\", data=temp_df.sample(1000000) \n",
    "            ,height=5, aspect=3, palette=\"coolwarm\");\n",
    "sns.despine()\n",
    "plt.title('Distubution of Rides per Temperature',fontsize= 15)\n",
    "plt.grid(linestyle=\"--\", color='grey')\n",
    "plt.ylim(0,100000)\n",
    "plt.xlim(3,35)\n",
    "plt.yticks(rotation=45)\n",
    "plt.xticks(rotation=45)\n",
    "plt.xlabel('temperature (C)')\n",
    "\n",
    "plt.show()"
   ]
  },
  {
   "cell_type": "markdown",
   "metadata": {},
   "source": [
    "As expected, the most rides taken in Helsinki is around 18C in summer."
   ]
  },
  {
   "cell_type": "code",
   "execution_count": null,
   "metadata": {},
   "outputs": [],
   "source": [
    "temp_df = extract_time_features(temp_df)"
   ]
  },
  {
   "cell_type": "code",
   "execution_count": null,
   "metadata": {},
   "outputs": [],
   "source": [
    "temp_df.sample(12)"
   ]
  },
  {
   "cell_type": "code",
   "execution_count": null,
   "metadata": {},
   "outputs": [],
   "source": [
    "df['month'].value_counts()"
   ]
  },
  {
   "cell_type": "code",
   "execution_count": null,
   "metadata": {},
   "outputs": [],
   "source": [
    "sns.barplot(x='month', y= \"temperature\", data=temp_df.sample(100000),ci= 0.8, palette='mako');\n",
    "plt.figure(figsize=(20,9))"
   ]
  },
  {
   "cell_type": "markdown",
   "metadata": {},
   "source": [
    "#### Heatmap of departures per hour "
   ]
  },
  {
   "cell_type": "markdown",
   "metadata": {},
   "source": [
    "This map shows every pick up point per hour of the day in 2020"
   ]
  },
  {
   "cell_type": "code",
   "execution_count": null,
   "metadata": {},
   "outputs": [],
   "source": [
    "heatmap_data_by_hour = []\n",
    "__df__ = df.head(100000)\n",
    "for hour in df.hour.sort_values().unique():\n",
    "    _df = __df__[__df__.hour == hour][['departure_latitude', \n",
    "                                       'departure_longitude',\n",
    "                                       'count']].groupby(['departure_latitude',\n",
    "                                                          'departure_longitude']).sum().reset_index().values.tolist()\n",
    "    heatmap_data_by_hour.append(_df)"
   ]
  },
  {
   "cell_type": "code",
   "execution_count": null,
   "metadata": {},
   "outputs": [],
   "source": [
    "m2 = folium.Map(location=center_location, control_scale=True, zoom_start=11)\n",
    "HeatMapWithTime(heatmap_data_by_hour, radius=5,\n",
    "                gradient=gradient,auto_play=True,\n",
    "                min_opacity=0.5, max_opacity=0.8,\n",
    "                use_local_extrema=False).add_to(m2)\n",
    "m2"
   ]
  },
  {
   "cell_type": "markdown",
   "metadata": {},
   "source": [
    "A useful look at main pickup points for bikes within the city centre. "
   ]
  },
  {
   "cell_type": "markdown",
   "metadata": {},
   "source": [
    "#### Distance Distubution"
   ]
  },
  {
   "cell_type": "code",
   "execution_count": null,
   "metadata": {},
   "outputs": [],
   "source": [
    "def plot_dist(series=df[\"distance\"], title=\"Distance Distribution\"):\n",
    "    sns.histplot(series, kde=True, stat='density', discrete=True)\n",
    "    sns.despine()\n",
    "    plt.title(title);\n",
    "    plt.show()\n",
    "plot_dist()"
   ]
  },
  {
   "cell_type": "code",
   "execution_count": null,
   "metadata": {},
   "outputs": [],
   "source": [
    "def calculate_direction(d_lon, d_lat):\n",
    "    result = np.zeros(len(d_lon))\n",
    "    l = np.sqrt(d_lon**2 + d_lat**2)\n",
    "    result[d_lon>0] = (180/np.pi)*np.arcsin(d_lat[d_lon>0]/l[d_lon>0])\n",
    "    idx = (d_lon<0) & (d_lat>0)\n",
    "    result[idx] = 180 - (180/np.pi)*np.arcsin(d_lat[idx]/l[idx])\n",
    "    idx = (d_lon<0) & (d_lat<0)\n",
    "    result[idx] = -180 - (180/np.pi)*np.arcsin(d_lat[idx]/l[idx])\n",
    "    return result"
   ]
  },
  {
   "cell_type": "code",
   "execution_count": null,
   "metadata": {},
   "outputs": [],
   "source": [
    "df['delta_lon'] = df.departure_longitude - df.return_longitude\n",
    "df['delta_lat'] = df.departure_latitude - df.return_latitude\n",
    "df['direction'] = calculate_direction(df.delta_lon, df.delta_lat)"
   ]
  },
  {
   "cell_type": "code",
   "execution_count": null,
   "metadata": {},
   "outputs": [],
   "source": [
    "plt.figure(figsize=(10,6))\n",
    "df.direction.hist(bins=80)"
   ]
  },
  {
   "cell_type": "markdown",
   "metadata": {},
   "source": [
    "END"
   ]
  }
 ],
 "metadata": {
  "kernelspec": {
   "display_name": "Python 3.9.9 64-bit ('shims')",
   "language": "python",
   "name": "python3"
  },
  "language_info": {
   "codemirror_mode": {
    "name": "ipython",
    "version": 3
   },
   "file_extension": ".py",
   "mimetype": "text/x-python",
   "name": "python",
   "nbconvert_exporter": "python",
   "pygments_lexer": "ipython3",
   "version": "3.9.9"
  },
  "orig_nbformat": 4,
  "vscode": {
   "interpreter": {
    "hash": "ac30f726a3612e8f542ca1e95ba0bd276dbd1b586db78f0bbd4db997dac7ff2d"
   }
  }
 },
 "nbformat": 4,
 "nbformat_minor": 2
}
