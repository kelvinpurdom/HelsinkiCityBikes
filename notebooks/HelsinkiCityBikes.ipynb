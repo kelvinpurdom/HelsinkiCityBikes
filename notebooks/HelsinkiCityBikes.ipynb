{
 "cells": [
  {
   "cell_type": "markdown",
   "metadata": {},
   "source": [
    "# Helsinki City Bikes EDA"
   ]
  },
  {
   "cell_type": "code",
   "execution_count": 1,
   "metadata": {},
   "outputs": [],
   "source": [
    "import pandas as pd\n",
    "import numpy as np\n",
    "import seaborn as sns\n",
    "import matplotlib.pyplot as plt"
   ]
  },
  {
   "cell_type": "code",
   "execution_count": 2,
   "metadata": {},
   "outputs": [],
   "source": [
    "dataframe = pd.read_csv(\"../raw_data/database.csv\", low_memory=False)\n"
   ]
  },
  {
   "cell_type": "code",
   "execution_count": 3,
   "metadata": {},
   "outputs": [],
   "source": [
    "df = dataframe.copy()"
   ]
  },
  {
   "cell_type": "code",
   "execution_count": 4,
   "metadata": {},
   "outputs": [
    {
     "data": {
      "text/plain": [
       "(12157458, 14)"
      ]
     },
     "execution_count": 4,
     "metadata": {},
     "output_type": "execute_result"
    }
   ],
   "source": [
    "df.shape\n"
   ]
  },
  {
   "cell_type": "code",
   "execution_count": 5,
   "metadata": {},
   "outputs": [
    {
     "data": {
      "text/plain": [
       "Index(['departure', 'return', 'departure_id', 'departure_name', 'return_id',\n",
       "       'return_name', 'distance (m)', 'duration (sec.)', 'avg_speed (km/h)',\n",
       "       'departure_latitude', 'departure_longitude', 'return_latitude',\n",
       "       'return_longitude', 'Air temperature (degC)'],\n",
       "      dtype='object')"
      ]
     },
     "execution_count": 5,
     "metadata": {},
     "output_type": "execute_result"
    }
   ],
   "source": [
    "df.columns"
   ]
  },
  {
   "cell_type": "code",
   "execution_count": 6,
   "metadata": {},
   "outputs": [
    {
     "data": {
      "text/plain": [
       "departure                     0\n",
       "return                        0\n",
       "departure_id                  0\n",
       "departure_name                0\n",
       "return_id                     0\n",
       "return_name                   0\n",
       "distance (m)                  0\n",
       "duration (sec.)               0\n",
       "avg_speed (km/h)           3550\n",
       "departure_latitude            0\n",
       "departure_longitude           0\n",
       "return_latitude               1\n",
       "return_longitude              1\n",
       "Air temperature (degC)    15902\n",
       "dtype: int64"
      ]
     },
     "execution_count": 6,
     "metadata": {},
     "output_type": "execute_result"
    }
   ],
   "source": [
    "df.isna().sum()"
   ]
  },
  {
   "cell_type": "code",
   "execution_count": 7,
   "metadata": {},
   "outputs": [],
   "source": [
    "df.dropna(inplace=True)"
   ]
  },
  {
   "cell_type": "code",
   "execution_count": 8,
   "metadata": {},
   "outputs": [
    {
     "data": {
      "text/plain": [
       "departure                 0\n",
       "return                    0\n",
       "departure_id              0\n",
       "departure_name            0\n",
       "return_id                 0\n",
       "return_name               0\n",
       "distance (m)              0\n",
       "duration (sec.)           0\n",
       "avg_speed (km/h)          0\n",
       "departure_latitude        0\n",
       "departure_longitude       0\n",
       "return_latitude           0\n",
       "return_longitude          0\n",
       "Air temperature (degC)    0\n",
       "dtype: int64"
      ]
     },
     "execution_count": 8,
     "metadata": {},
     "output_type": "execute_result"
    }
   ],
   "source": [
    "df.isna().sum()"
   ]
  },
  {
   "cell_type": "code",
   "execution_count": 9,
   "metadata": {},
   "outputs": [],
   "source": [
    "df[['departure','return']] =  df[['departure','return']].apply(pd.to_datetime, format='%Y-%m-%d %H:%M:%S.%f')"
   ]
  },
  {
   "cell_type": "markdown",
   "metadata": {},
   "source": [
    "#### Rename Columns"
   ]
  },
  {
   "cell_type": "code",
   "execution_count": 10,
   "metadata": {},
   "outputs": [],
   "source": [
    "df = df.rename(columns={'distance (m)': 'distance',\n",
    "                                     'duration (sec.)': 'duration',\n",
    "                                     'avg_speed (km/h)':'speed',\n",
    "                                      'Air temperature (degC)':'temperature',\n",
    "                                     })"
   ]
  },
  {
   "cell_type": "code",
   "execution_count": 11,
   "metadata": {},
   "outputs": [
    {
     "data": {
      "text/html": [
       "<div>\n",
       "<style scoped>\n",
       "    .dataframe tbody tr th:only-of-type {\n",
       "        vertical-align: middle;\n",
       "    }\n",
       "\n",
       "    .dataframe tbody tr th {\n",
       "        vertical-align: top;\n",
       "    }\n",
       "\n",
       "    .dataframe thead th {\n",
       "        text-align: right;\n",
       "    }\n",
       "</style>\n",
       "<table border=\"1\" class=\"dataframe\">\n",
       "  <thead>\n",
       "    <tr style=\"text-align: right;\">\n",
       "      <th></th>\n",
       "      <th>distance</th>\n",
       "      <th>duration</th>\n",
       "      <th>temperature</th>\n",
       "    </tr>\n",
       "  </thead>\n",
       "  <tbody>\n",
       "    <tr>\n",
       "      <th>count</th>\n",
       "      <td>12138008.000</td>\n",
       "      <td>12138008.000</td>\n",
       "      <td>12138008.000</td>\n",
       "    </tr>\n",
       "    <tr>\n",
       "      <th>mean</th>\n",
       "      <td>2296.183</td>\n",
       "      <td>960.187</td>\n",
       "      <td>15.650</td>\n",
       "    </tr>\n",
       "    <tr>\n",
       "      <th>std</th>\n",
       "      <td>24540.204</td>\n",
       "      <td>7351.542</td>\n",
       "      <td>5.498</td>\n",
       "    </tr>\n",
       "    <tr>\n",
       "      <th>min</th>\n",
       "      <td>-4292467.000</td>\n",
       "      <td>1.000</td>\n",
       "      <td>-5.200</td>\n",
       "    </tr>\n",
       "    <tr>\n",
       "      <th>25%</th>\n",
       "      <td>1000.000</td>\n",
       "      <td>344.000</td>\n",
       "      <td>12.300</td>\n",
       "    </tr>\n",
       "    <tr>\n",
       "      <th>50%</th>\n",
       "      <td>1739.000</td>\n",
       "      <td>586.000</td>\n",
       "      <td>16.400</td>\n",
       "    </tr>\n",
       "    <tr>\n",
       "      <th>75%</th>\n",
       "      <td>2869.000</td>\n",
       "      <td>971.000</td>\n",
       "      <td>19.300</td>\n",
       "    </tr>\n",
       "    <tr>\n",
       "      <th>max</th>\n",
       "      <td>3681399.000</td>\n",
       "      <td>5401659.000</td>\n",
       "      <td>32.900</td>\n",
       "    </tr>\n",
       "  </tbody>\n",
       "</table>\n",
       "</div>"
      ],
      "text/plain": [
       "          distance     duration  temperature\n",
       "count 12138008.000 12138008.000 12138008.000\n",
       "mean      2296.183      960.187       15.650\n",
       "std      24540.204     7351.542        5.498\n",
       "min   -4292467.000        1.000       -5.200\n",
       "25%       1000.000      344.000       12.300\n",
       "50%       1739.000      586.000       16.400\n",
       "75%       2869.000      971.000       19.300\n",
       "max    3681399.000  5401659.000       32.900"
      ]
     },
     "execution_count": 11,
     "metadata": {},
     "output_type": "execute_result"
    }
   ],
   "source": [
    "pd.set_option('display.float_format', lambda x: '%.3f' % x)\n",
    "df[[\"distance\", \"duration\", \"temperature\"]].describe()"
   ]
  },
  {
   "cell_type": "markdown",
   "metadata": {},
   "source": [
    "#### Removing Extreme Values"
   ]
  },
  {
   "cell_type": "code",
   "execution_count": 46,
   "metadata": {},
   "outputs": [],
   "source": [
    "df = df[(df['distance'] > 50) & (df['distance'] < 10000) &\n",
    "        (60 < df['duration']) & (df['duration'] <  3600)]"
   ]
  },
  {
   "cell_type": "code",
   "execution_count": 47,
   "metadata": {},
   "outputs": [
    {
     "data": {
      "text/html": [
       "<div>\n",
       "<style scoped>\n",
       "    .dataframe tbody tr th:only-of-type {\n",
       "        vertical-align: middle;\n",
       "    }\n",
       "\n",
       "    .dataframe tbody tr th {\n",
       "        vertical-align: top;\n",
       "    }\n",
       "\n",
       "    .dataframe thead th {\n",
       "        text-align: right;\n",
       "    }\n",
       "</style>\n",
       "<table border=\"1\" class=\"dataframe\">\n",
       "  <thead>\n",
       "    <tr style=\"text-align: right;\">\n",
       "      <th></th>\n",
       "      <th>distance</th>\n",
       "      <th>duration</th>\n",
       "      <th>temperature</th>\n",
       "    </tr>\n",
       "  </thead>\n",
       "  <tbody>\n",
       "    <tr>\n",
       "      <th>count</th>\n",
       "      <td>11250625.000</td>\n",
       "      <td>11250625.000</td>\n",
       "      <td>11250625.000</td>\n",
       "    </tr>\n",
       "    <tr>\n",
       "      <th>mean</th>\n",
       "      <td>2212.356</td>\n",
       "      <td>726.874</td>\n",
       "      <td>15.624</td>\n",
       "    </tr>\n",
       "    <tr>\n",
       "      <th>std</th>\n",
       "      <td>1471.988</td>\n",
       "      <td>470.883</td>\n",
       "      <td>5.496</td>\n",
       "    </tr>\n",
       "    <tr>\n",
       "      <th>min</th>\n",
       "      <td>51.000</td>\n",
       "      <td>61.000</td>\n",
       "      <td>-5.200</td>\n",
       "    </tr>\n",
       "    <tr>\n",
       "      <th>25%</th>\n",
       "      <td>1106.000</td>\n",
       "      <td>374.000</td>\n",
       "      <td>12.300</td>\n",
       "    </tr>\n",
       "    <tr>\n",
       "      <th>50%</th>\n",
       "      <td>1827.000</td>\n",
       "      <td>607.000</td>\n",
       "      <td>16.400</td>\n",
       "    </tr>\n",
       "    <tr>\n",
       "      <th>75%</th>\n",
       "      <td>2932.000</td>\n",
       "      <td>975.000</td>\n",
       "      <td>19.300</td>\n",
       "    </tr>\n",
       "    <tr>\n",
       "      <th>max</th>\n",
       "      <td>9999.000</td>\n",
       "      <td>3599.000</td>\n",
       "      <td>32.900</td>\n",
       "    </tr>\n",
       "  </tbody>\n",
       "</table>\n",
       "</div>"
      ],
      "text/plain": [
       "          distance     duration  temperature\n",
       "count 11250625.000 11250625.000 11250625.000\n",
       "mean      2212.356      726.874       15.624\n",
       "std       1471.988      470.883        5.496\n",
       "min         51.000       61.000       -5.200\n",
       "25%       1106.000      374.000       12.300\n",
       "50%       1827.000      607.000       16.400\n",
       "75%       2932.000      975.000       19.300\n",
       "max       9999.000     3599.000       32.900"
      ]
     },
     "execution_count": 47,
     "metadata": {},
     "output_type": "execute_result"
    }
   ],
   "source": [
    "pd.set_option('display.float_format', lambda x: '%.3f' % x)\n",
    "df[[\"distance\", \"duration\", \"temperature\"]].describe()"
   ]
  },
  {
   "cell_type": "code",
   "execution_count": 48,
   "metadata": {},
   "outputs": [
    {
     "data": {
      "image/png": "[encoded data removed]",
      "text/plain": [
       "<Figure size 1080x504 with 1 Axes>"
      ]
     },
     "metadata": {
      "needs_background": "light"
     },
     "output_type": "display_data"
    }
   ],
   "source": [
    "fig = plt.figure(figsize=(15,7))\n",
    "ax = fig.add_axes([0.1, 0.1, 0.8, 0.8])\n",
    "\n",
    "distance = df[\"distance\"]\n",
    "sns.histplot(distance, bins = 40)\n",
    "ax.grid(zorder=0, linestyle='dashed')\n",
    "\n",
    "# adding mean and median lines\n",
    "plt.axvline(distance.mean(), color='red', linestyle='-', linewidth=3 )\n",
    "plt.axvline(distance.median(), color='green', linestyle='-', linewidth=3 )\n",
    "plt.axvline(distance.min(), color='magenta', linestyle='-', linewidth=3 )\n",
    "plt.axvline(distance.max(), color='blue', linestyle='-', linewidth=3 )\n",
    "\n",
    "min_ylim, max_ylim = plt.ylim()\n",
    "plt.text(distance.mean()*1.1, max_ylim*0.95, 'Mean: {:.0f} metres'.format(distance.mean()), color = 'red',  fontsize= 16)\n",
    "plt.text(distance.median()*1.1, max_ylim*1.1, 'Median: {:.0f} metres'.format(distance.median()), color = 'green', fontsize= 16)\n",
    "plt.text(distance.min()+ 50, max_ylim*1.1, 'Min: {:.0f} metres'.format(distance.min()), color = 'magenta', fontsize= 16)\n",
    "plt.text(distance.max()-2100, max_ylim*1.1, 'Max: {:.0f} metres'.format(distance.max()), color = 'blue', fontsize= 16)\n",
    "\n",
    "# plot ticks\n",
    "ticks =range(0, 11000, 500)\n",
    "plt.xticks(ticks)\n",
    "ticks =range(0, 1600000, 100000)\n",
    "plt.yticks(ticks)\n",
    "\n",
    "# plot x,y labels\n",
    "plt.xlabel(\"Distance of Rides(Meters)\", fontsize= 12, x = 0.5)\n",
    "plt.ylabel(\"Number of Rides\", fontsize= 12)\n",
    "\n",
    "plt.title('Distrubution of Ride Distance', fontdict={\"fontsize\":16}, pad = 15);\n",
    "\n"
   ]
  },
  {
   "cell_type": "markdown",
   "metadata": {},
   "source": [
    "#### Visualising the data"
   ]
  },
  {
   "cell_type": "code",
   "execution_count": 54,
   "metadata": {},
   "outputs": [],
   "source": [
    "df_ = df.copy()\n",
    "    \n",
    "# Converting seconds to minutes\n",
    "df_[\"duration\"] = df_[\"duration\"]/60\n",
    "    \n",
    "# Filtering relevant data\n",
    "duration = df_[\"duration\"]\n",
    "fig = plt.figure(figsize=(15,7))\n",
    "ax = fig.add_axes([0.1, 0.1, 0.8, 0.8])\n",
    "ax.grid(zorder=0, linestyle='dashed')\n",
    "sns.histplot(duration, bins= range(60))\n",
    "\n",
    "# adding mean and median lines\n",
    "plt.axvline(duration.mean(), color='red', linestyle='-', linewidth=3 )\n",
    "plt.axvline(duration.median(), color='green', linestyle='-', linewidth=3 )\n",
    "plt.axvline(duration.min(), color='magenta', linestyle='-', linewidth=3 )\n",
    "plt.axvline(duration.max(), color='blue', linestyle='-', linewidth=3 )\n",
    "\n",
    "# plot x,y labels\n",
    "plt.xlabel(\"Duration of Rides(Minutes)\", fontsize= 12, x = 0.5)\n",
    "plt.ylabel(\"Number of Rides\", fontsize= 12)\n",
    "\n",
    "min_ylim, max_ylim = plt.ylim()\n",
    "plt.text(duration.mean()*1.1, max_ylim*0.95, 'Mean: {:.0f} min'.format(duration.mean()), color = 'red',  fontsize= 16)\n",
    "plt.text(duration.median()*1.1, max_ylim*1.1, 'Median: {:.0f} min'.format(duration.median()), color = 'green', fontsize= 16)\n",
    "plt.text(duration.min()*1.1, max_ylim*1.1, 'Min: {:.0f} min'.format(duration.min()), color = 'magenta', fontsize= 16)\n",
    "plt.text(duration.max()-4, max_ylim*1.1, 'Max: {:.0f} min'.format(duration.max()), color = 'blue', fontsize= 16)\n",
    "\n",
    "# plot ticks\n",
    "ticks =range(0, 62, 2)\n",
    "plt.xticks(ticks)\n",
    "ticks =range(0, 1200000, 100000)\n",
    "plt.yticks(ticks)\n",
    "\n",
    "\n",
    "plt.title('Distrubution of Ride Duration', fontdict={\"fontsize\":16}, pad = 15);\n",
    "\n"
   ]
  },
  {
   "cell_type": "code",
   "execution_count": 50,
   "metadata": {},
   "outputs": [
    {
     "data": {
      "text/plain": [
       "59.983333333333334"
      ]
     },
     "execution_count": 50,
     "metadata": {},
     "output_type": "execute_result"
    }
   ],
   "source": [
    "duration.max()"
   ]
  },
  {
   "cell_type": "code",
   "execution_count": null,
   "metadata": {},
   "outputs": [],
   "source": []
  },
  {
   "cell_type": "code",
   "execution_count": null,
   "metadata": {},
   "outputs": [],
   "source": []
  },
  {
   "cell_type": "code",
   "execution_count": null,
   "metadata": {},
   "outputs": [],
   "source": []
  }
 ],
 "metadata": {
  "kernelspec": {
   "display_name": "Python 3.9.9 64-bit ('shims')",
   "language": "python",
   "name": "python3"
  },
  "language_info": {
   "codemirror_mode": {
    "name": "ipython",
    "version": 3
   },
   "file_extension": ".py",
   "mimetype": "text/x-python",
   "name": "python",
   "nbconvert_exporter": "python",
   "pygments_lexer": "ipython3",
   "version": "3.9.9"
  },
  "orig_nbformat": 4,
  "vscode": {
   "interpreter": {
    "hash": "ac30f726a3612e8f542ca1e95ba0bd276dbd1b586db78f0bbd4db997dac7ff2d"
   }
  }
 },
 "nbformat": 4,
 "nbformat_minor": 2
}
