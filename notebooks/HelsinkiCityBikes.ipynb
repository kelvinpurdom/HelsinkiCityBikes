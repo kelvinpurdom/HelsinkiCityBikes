{
 "cells": [
  {
   "cell_type": "markdown",
   "metadata": {},
   "source": [
    "# Helsinki City Bikes EDA"
   ]
  },
  {
   "cell_type": "code",
   "execution_count": 1,
   "metadata": {},
   "outputs": [],
   "source": [
    "import pandas as pd\n",
    "import numpy as np\n",
    "import seaborn as sns\n",
    "import matplotlib.pyplot as plt"
   ]
  },
  {
   "cell_type": "code",
   "execution_count": 2,
   "metadata": {},
   "outputs": [
    {
     "name": "stderr",
     "output_type": "stream",
     "text": [
      "/Users/kelvinpurdom/.pyenv/versions/lewagon/lib/python3.9/site-packages/IPython/core/interactiveshell.py:3457: DtypeWarning: Columns (2,4) have mixed types.Specify dtype option on import or set low_memory=False.\n",
      "  exec(code_obj, self.user_global_ns, self.user_ns)\n"
     ]
    }
   ],
   "source": [
    "df = pd.read_csv('../raw_data/HelsinkiCityBikes.csv')"
   ]
  },
  {
   "cell_type": "code",
   "execution_count": 3,
   "metadata": {},
   "outputs": [
    {
     "data": {
      "text/html": [
       "<div>\n",
       "<style scoped>\n",
       "    .dataframe tbody tr th:only-of-type {\n",
       "        vertical-align: middle;\n",
       "    }\n",
       "\n",
       "    .dataframe tbody tr th {\n",
       "        vertical-align: top;\n",
       "    }\n",
       "\n",
       "    .dataframe thead th {\n",
       "        text-align: right;\n",
       "    }\n",
       "</style>\n",
       "<table border=\"1\" class=\"dataframe\">\n",
       "  <thead>\n",
       "    <tr style=\"text-align: right;\">\n",
       "      <th></th>\n",
       "      <th>departure</th>\n",
       "      <th>return</th>\n",
       "      <th>departure_id</th>\n",
       "      <th>departure_name</th>\n",
       "      <th>return_id</th>\n",
       "      <th>return_name</th>\n",
       "      <th>distance (m)</th>\n",
       "      <th>duration (sec.)</th>\n",
       "      <th>avg_speed (km/h)</th>\n",
       "      <th>departure_latitude</th>\n",
       "      <th>departure_longitude</th>\n",
       "      <th>return_latitude</th>\n",
       "      <th>return_longitude</th>\n",
       "      <th>Air temperature (degC)</th>\n",
       "    </tr>\n",
       "  </thead>\n",
       "  <tbody>\n",
       "    <tr>\n",
       "      <th>0</th>\n",
       "      <td>2020-03-23 06:09:44</td>\n",
       "      <td>2020-03-23 06:16:26</td>\n",
       "      <td>86</td>\n",
       "      <td>Kuusitie</td>\n",
       "      <td>111.0</td>\n",
       "      <td>Esterinportti</td>\n",
       "      <td>1747.0</td>\n",
       "      <td>401.0</td>\n",
       "      <td>0.261397</td>\n",
       "      <td>60.195245</td>\n",
       "      <td>24.901900</td>\n",
       "      <td>60.197572</td>\n",
       "      <td>24.926781</td>\n",
       "      <td>0.9</td>\n",
       "    </tr>\n",
       "    <tr>\n",
       "      <th>1</th>\n",
       "      <td>2020-03-23 06:11:58</td>\n",
       "      <td>2020-03-23 06:26:31</td>\n",
       "      <td>26</td>\n",
       "      <td>Kamppi (M)</td>\n",
       "      <td>10.0</td>\n",
       "      <td>Kasarmitori</td>\n",
       "      <td>1447.0</td>\n",
       "      <td>869.0</td>\n",
       "      <td>0.099908</td>\n",
       "      <td>60.168610</td>\n",
       "      <td>24.930537</td>\n",
       "      <td>60.165017</td>\n",
       "      <td>24.949473</td>\n",
       "      <td>0.9</td>\n",
       "    </tr>\n",
       "    <tr>\n",
       "      <th>2</th>\n",
       "      <td>2020-03-23 06:16:29</td>\n",
       "      <td>2020-03-23 06:24:23</td>\n",
       "      <td>268</td>\n",
       "      <td>Porolahden koulu</td>\n",
       "      <td>254.0</td>\n",
       "      <td>Agnetankuja</td>\n",
       "      <td>1772.0</td>\n",
       "      <td>469.0</td>\n",
       "      <td>0.226695</td>\n",
       "      <td>60.195540</td>\n",
       "      <td>25.053581</td>\n",
       "      <td>60.187234</td>\n",
       "      <td>25.036412</td>\n",
       "      <td>0.9</td>\n",
       "    </tr>\n",
       "    <tr>\n",
       "      <th>3</th>\n",
       "      <td>2020-03-23 06:33:53</td>\n",
       "      <td>2020-03-23 07:14:03</td>\n",
       "      <td>751</td>\n",
       "      <td>Vallipolku</td>\n",
       "      <td>106.0</td>\n",
       "      <td>Korppaanmäentie</td>\n",
       "      <td>7456.0</td>\n",
       "      <td>2406.0</td>\n",
       "      <td>0.185935</td>\n",
       "      <td>60.227827</td>\n",
       "      <td>24.819614</td>\n",
       "      <td>60.203474</td>\n",
       "      <td>24.898930</td>\n",
       "      <td>0.9</td>\n",
       "    </tr>\n",
       "    <tr>\n",
       "      <th>4</th>\n",
       "      <td>2020-03-23 06:36:09</td>\n",
       "      <td>2020-03-23 07:04:10</td>\n",
       "      <td>62</td>\n",
       "      <td>Länsisatamankatu</td>\n",
       "      <td>121.0</td>\n",
       "      <td>Vilhonvuorenkatu</td>\n",
       "      <td>7120.0</td>\n",
       "      <td>1679.0</td>\n",
       "      <td>0.254437</td>\n",
       "      <td>60.158928</td>\n",
       "      <td>24.909692</td>\n",
       "      <td>60.186463</td>\n",
       "      <td>24.967872</td>\n",
       "      <td>0.9</td>\n",
       "    </tr>\n",
       "  </tbody>\n",
       "</table>\n",
       "</div>"
      ],
      "text/plain": [
       "             departure               return departure_id    departure_name  \\\n",
       "0  2020-03-23 06:09:44  2020-03-23 06:16:26           86          Kuusitie   \n",
       "1  2020-03-23 06:11:58  2020-03-23 06:26:31           26        Kamppi (M)   \n",
       "2  2020-03-23 06:16:29  2020-03-23 06:24:23          268  Porolahden koulu   \n",
       "3  2020-03-23 06:33:53  2020-03-23 07:14:03          751        Vallipolku   \n",
       "4  2020-03-23 06:36:09  2020-03-23 07:04:10           62  Länsisatamankatu   \n",
       "\n",
       "  return_id       return_name  distance (m)  duration (sec.)  \\\n",
       "0     111.0     Esterinportti        1747.0            401.0   \n",
       "1      10.0       Kasarmitori        1447.0            869.0   \n",
       "2     254.0       Agnetankuja        1772.0            469.0   \n",
       "3     106.0   Korppaanmäentie        7456.0           2406.0   \n",
       "4     121.0  Vilhonvuorenkatu        7120.0           1679.0   \n",
       "\n",
       "   avg_speed (km/h)  departure_latitude  departure_longitude  return_latitude  \\\n",
       "0          0.261397           60.195245            24.901900        60.197572   \n",
       "1          0.099908           60.168610            24.930537        60.165017   \n",
       "2          0.226695           60.195540            25.053581        60.187234   \n",
       "3          0.185935           60.227827            24.819614        60.203474   \n",
       "4          0.254437           60.158928            24.909692        60.186463   \n",
       "\n",
       "   return_longitude  Air temperature (degC)  \n",
       "0         24.926781                     0.9  \n",
       "1         24.949473                     0.9  \n",
       "2         25.036412                     0.9  \n",
       "3         24.898930                     0.9  \n",
       "4         24.967872                     0.9  "
      ]
     },
     "execution_count": 3,
     "metadata": {},
     "output_type": "execute_result"
    }
   ],
   "source": [
    "df.head()"
   ]
  },
  {
   "cell_type": "code",
   "execution_count": 4,
   "metadata": {},
   "outputs": [
    {
     "data": {
      "text/plain": [
       "(12157458, 14)"
      ]
     },
     "execution_count": 4,
     "metadata": {},
     "output_type": "execute_result"
    }
   ],
   "source": [
    "df.shape\n"
   ]
  },
  {
   "cell_type": "code",
   "execution_count": 5,
   "metadata": {},
   "outputs": [
    {
     "data": {
      "text/plain": [
       "Index(['departure', 'return', 'departure_id', 'departure_name', 'return_id',\n",
       "       'return_name', 'distance (m)', 'duration (sec.)', 'avg_speed (km/h)',\n",
       "       'departure_latitude', 'departure_longitude', 'return_latitude',\n",
       "       'return_longitude', 'Air temperature (degC)'],\n",
       "      dtype='object')"
      ]
     },
     "execution_count": 5,
     "metadata": {},
     "output_type": "execute_result"
    }
   ],
   "source": [
    "df.columns"
   ]
  },
  {
   "cell_type": "code",
   "execution_count": 6,
   "metadata": {},
   "outputs": [
    {
     "data": {
      "text/plain": [
       "departure                     0\n",
       "return                        0\n",
       "departure_id                  0\n",
       "departure_name                0\n",
       "return_id                     0\n",
       "return_name                   0\n",
       "distance (m)                  0\n",
       "duration (sec.)               0\n",
       "avg_speed (km/h)           3550\n",
       "departure_latitude            0\n",
       "departure_longitude           0\n",
       "return_latitude               1\n",
       "return_longitude              1\n",
       "Air temperature (degC)    15902\n",
       "dtype: int64"
      ]
     },
     "execution_count": 6,
     "metadata": {},
     "output_type": "execute_result"
    }
   ],
   "source": [
    "df.isna().sum()"
   ]
  },
  {
   "cell_type": "code",
   "execution_count": 7,
   "metadata": {},
   "outputs": [],
   "source": [
    "df.dropna(inplace=True)"
   ]
  },
  {
   "cell_type": "code",
   "execution_count": 8,
   "metadata": {},
   "outputs": [
    {
     "name": "stdout",
     "output_type": "stream",
     "text": [
      "<class 'pandas.core.frame.DataFrame'>\n",
      "Int64Index: 12138008 entries, 0 to 12157457\n",
      "Data columns (total 14 columns):\n",
      " #   Column                  Dtype  \n",
      "---  ------                  -----  \n",
      " 0   departure               object \n",
      " 1   return                  object \n",
      " 2   departure_id            object \n",
      " 3   departure_name          object \n",
      " 4   return_id               object \n",
      " 5   return_name             object \n",
      " 6   distance (m)            float64\n",
      " 7   duration (sec.)         float64\n",
      " 8   avg_speed (km/h)        float64\n",
      " 9   departure_latitude      float64\n",
      " 10  departure_longitude     float64\n",
      " 11  return_latitude         float64\n",
      " 12  return_longitude        float64\n",
      " 13  Air temperature (degC)  float64\n",
      "dtypes: float64(8), object(6)\n",
      "memory usage: 1.4+ GB\n"
     ]
    }
   ],
   "source": [
    "df.info()"
   ]
  },
  {
   "cell_type": "code",
   "execution_count": 9,
   "metadata": {},
   "outputs": [],
   "source": [
    "df[['departure','return']] =  df[['departure','return']].apply(pd.to_datetime, format='%Y-%m-%d %H:%M:%S.%f')"
   ]
  },
  {
   "cell_type": "markdown",
   "metadata": {},
   "source": [
    "#### Rename Columns"
   ]
  },
  {
   "cell_type": "code",
   "execution_count": 10,
   "metadata": {},
   "outputs": [],
   "source": [
    "df = df.rename(columns={'distance (m)': 'distance',\n",
    "                                     'duration (sec.)': 'duration',\n",
    "                                     'avg_speed (km/h)':'speed',\n",
    "                                      'Air temperature (degC)':'temperature',\n",
    "                                     })"
   ]
  },
  {
   "cell_type": "code",
   "execution_count": 11,
   "metadata": {},
   "outputs": [
    {
     "data": {
      "text/html": [
       "<div>\n",
       "<style scoped>\n",
       "    .dataframe tbody tr th:only-of-type {\n",
       "        vertical-align: middle;\n",
       "    }\n",
       "\n",
       "    .dataframe tbody tr th {\n",
       "        vertical-align: top;\n",
       "    }\n",
       "\n",
       "    .dataframe thead th {\n",
       "        text-align: right;\n",
       "    }\n",
       "</style>\n",
       "<table border=\"1\" class=\"dataframe\">\n",
       "  <thead>\n",
       "    <tr style=\"text-align: right;\">\n",
       "      <th></th>\n",
       "      <th>distance</th>\n",
       "      <th>duration</th>\n",
       "      <th>temperature</th>\n",
       "    </tr>\n",
       "  </thead>\n",
       "  <tbody>\n",
       "    <tr>\n",
       "      <th>count</th>\n",
       "      <td>12138008.000</td>\n",
       "      <td>12138008.000</td>\n",
       "      <td>12138008.000</td>\n",
       "    </tr>\n",
       "    <tr>\n",
       "      <th>mean</th>\n",
       "      <td>2296.183</td>\n",
       "      <td>960.187</td>\n",
       "      <td>15.650</td>\n",
       "    </tr>\n",
       "    <tr>\n",
       "      <th>std</th>\n",
       "      <td>24540.204</td>\n",
       "      <td>7351.542</td>\n",
       "      <td>5.498</td>\n",
       "    </tr>\n",
       "    <tr>\n",
       "      <th>min</th>\n",
       "      <td>-4292467.000</td>\n",
       "      <td>1.000</td>\n",
       "      <td>-5.200</td>\n",
       "    </tr>\n",
       "    <tr>\n",
       "      <th>25%</th>\n",
       "      <td>1000.000</td>\n",
       "      <td>344.000</td>\n",
       "      <td>12.300</td>\n",
       "    </tr>\n",
       "    <tr>\n",
       "      <th>50%</th>\n",
       "      <td>1739.000</td>\n",
       "      <td>586.000</td>\n",
       "      <td>16.400</td>\n",
       "    </tr>\n",
       "    <tr>\n",
       "      <th>75%</th>\n",
       "      <td>2869.000</td>\n",
       "      <td>971.000</td>\n",
       "      <td>19.300</td>\n",
       "    </tr>\n",
       "    <tr>\n",
       "      <th>max</th>\n",
       "      <td>3681399.000</td>\n",
       "      <td>5401659.000</td>\n",
       "      <td>32.900</td>\n",
       "    </tr>\n",
       "  </tbody>\n",
       "</table>\n",
       "</div>"
      ],
      "text/plain": [
       "          distance     duration  temperature\n",
       "count 12138008.000 12138008.000 12138008.000\n",
       "mean      2296.183      960.187       15.650\n",
       "std      24540.204     7351.542        5.498\n",
       "min   -4292467.000        1.000       -5.200\n",
       "25%       1000.000      344.000       12.300\n",
       "50%       1739.000      586.000       16.400\n",
       "75%       2869.000      971.000       19.300\n",
       "max    3681399.000  5401659.000       32.900"
      ]
     },
     "execution_count": 11,
     "metadata": {},
     "output_type": "execute_result"
    }
   ],
   "source": [
    "pd.set_option('display.float_format', lambda x: '%.3f' % x)\n",
    "df[[\"distance\", \"duration\", \"temperature\"]].describe()"
   ]
  },
  {
   "cell_type": "markdown",
   "metadata": {},
   "source": [
    "#### Removing Extreme Values"
   ]
  },
  {
   "cell_type": "code",
   "execution_count": 12,
   "metadata": {},
   "outputs": [],
   "source": [
    "df = df[(df['distance'] > 0) & (df['distance'] < 10000) &\n",
    "        (60 < df['duration']) & (df['duration'] <  18000)]"
   ]
  },
  {
   "cell_type": "code",
   "execution_count": 13,
   "metadata": {},
   "outputs": [
    {
     "data": {
      "text/html": [
       "<div>\n",
       "<style scoped>\n",
       "    .dataframe tbody tr th:only-of-type {\n",
       "        vertical-align: middle;\n",
       "    }\n",
       "\n",
       "    .dataframe tbody tr th {\n",
       "        vertical-align: top;\n",
       "    }\n",
       "\n",
       "    .dataframe thead th {\n",
       "        text-align: right;\n",
       "    }\n",
       "</style>\n",
       "<table border=\"1\" class=\"dataframe\">\n",
       "  <thead>\n",
       "    <tr style=\"text-align: right;\">\n",
       "      <th></th>\n",
       "      <th>distance</th>\n",
       "      <th>duration</th>\n",
       "      <th>temperature</th>\n",
       "    </tr>\n",
       "  </thead>\n",
       "  <tbody>\n",
       "    <tr>\n",
       "      <th>count</th>\n",
       "      <td>11488507.000</td>\n",
       "      <td>11488507.000</td>\n",
       "      <td>11488507.000</td>\n",
       "    </tr>\n",
       "    <tr>\n",
       "      <th>mean</th>\n",
       "      <td>2203.469</td>\n",
       "      <td>773.480</td>\n",
       "      <td>15.643</td>\n",
       "    </tr>\n",
       "    <tr>\n",
       "      <th>std</th>\n",
       "      <td>1508.461</td>\n",
       "      <td>799.516</td>\n",
       "      <td>5.495</td>\n",
       "    </tr>\n",
       "    <tr>\n",
       "      <th>min</th>\n",
       "      <td>1.000</td>\n",
       "      <td>61.000</td>\n",
       "      <td>-5.200</td>\n",
       "    </tr>\n",
       "    <tr>\n",
       "      <th>25%</th>\n",
       "      <td>1086.000</td>\n",
       "      <td>370.000</td>\n",
       "      <td>12.300</td>\n",
       "    </tr>\n",
       "    <tr>\n",
       "      <th>50%</th>\n",
       "      <td>1817.000</td>\n",
       "      <td>606.000</td>\n",
       "      <td>16.400</td>\n",
       "    </tr>\n",
       "    <tr>\n",
       "      <th>75%</th>\n",
       "      <td>2933.000</td>\n",
       "      <td>983.000</td>\n",
       "      <td>19.300</td>\n",
       "    </tr>\n",
       "    <tr>\n",
       "      <th>max</th>\n",
       "      <td>9999.000</td>\n",
       "      <td>17998.000</td>\n",
       "      <td>32.900</td>\n",
       "    </tr>\n",
       "  </tbody>\n",
       "</table>\n",
       "</div>"
      ],
      "text/plain": [
       "          distance     duration  temperature\n",
       "count 11488507.000 11488507.000 11488507.000\n",
       "mean      2203.469      773.480       15.643\n",
       "std       1508.461      799.516        5.495\n",
       "min          1.000       61.000       -5.200\n",
       "25%       1086.000      370.000       12.300\n",
       "50%       1817.000      606.000       16.400\n",
       "75%       2933.000      983.000       19.300\n",
       "max       9999.000    17998.000       32.900"
      ]
     },
     "execution_count": 13,
     "metadata": {},
     "output_type": "execute_result"
    }
   ],
   "source": [
    "pd.set_option('display.float_format', lambda x: '%.3f' % x)\n",
    "df[[\"distance\", \"duration\", \"temperature\"]].describe()"
   ]
  },
  {
   "cell_type": "markdown",
   "metadata": {},
   "source": [
    "#### Visualising the data"
   ]
  },
  {
   "cell_type": "code",
   "execution_count": 53,
   "metadata": {},
   "outputs": [
    {
     "data": {
      "text/plain": [
       "Text(0.5, 1.0, 'Ride Duration Distribution')"
      ]
     },
     "execution_count": 53,
     "metadata": {},
     "output_type": "execute_result"
    },
    {
     "data": {
      "image/png": "[encoded data removed]",
      "text/plain": [
       "<Figure size 1080x504 with 1 Axes>"
      ]
     },
     "metadata": {
      "needs_background": "light"
     },
     "output_type": "display_data"
    }
   ],
   "source": [
    "df_ = df.copy()\n",
    "    \n",
    "# Converting seconds to minutes\n",
    "df_[\"duration\"] = df_[\"duration\"]/60\n",
    "    \n",
    "# Filtering relevant data\n",
    "duration = df_[\"duration\"]\n",
    "fig = plt.figure(figsize=(15,7))\n",
    "plt.hist(duration, bins= range(60), histtype =\"bar\")\n",
    "\n",
    "# adding mean and median lines\n",
    "plt.axvline(duration.mean(), color='red', linestyle='-', linewidth=3 )\n",
    "plt.axvline(duration.median(), color='green', linestyle='-', linewidth=3 )\n",
    "\n",
    "\n",
    "# plot x,y labels\n",
    "plt.xlabel(\"Duration of Rides(Minutes)\", fontsize= 12, x = 0.5)\n",
    "plt.ylabel(\"Number of Rides\", fontsize= 12)\n",
    "\n",
    "min_ylim, max_ylim = plt.ylim()\n",
    "plt.text(duration.mean()*1.1, max_ylim*0.8, 'Mean: {:.0f} min'.format(duration.mean()), color = 'red',  fontsize= 16)\n",
    "plt.text(duration.median()-10, max_ylim*0.95, 'Median: {:.0f} min'.format(duration.median()), color = 'green', fontsize= 16)\n",
    "\n",
    "# plot ticks\n",
    "ticks =range(0, 62, 2)\n",
    "plt.xticks(ticks)\n",
    "ticks =range(0, 3600, 2000)\n",
    "\n",
    "plt.title('Distrubution of Ride Duration', fontdict={\"fontsize\":16}, pad = 15)\n",
    "\n"
   ]
  },
  {
   "cell_type": "code",
   "execution_count": 15,
   "metadata": {},
   "outputs": [
    {
     "data": {
      "text/plain": [
       "count   11488507.000\n",
       "mean          12.891\n",
       "std           13.325\n",
       "min            1.017\n",
       "25%            6.167\n",
       "50%           10.100\n",
       "75%           16.383\n",
       "max          299.967\n",
       "Name: duration, dtype: float64"
      ]
     },
     "execution_count": 15,
     "metadata": {},
     "output_type": "execute_result"
    }
   ],
   "source": [
    "duration.describe()"
   ]
  },
  {
   "cell_type": "code",
   "execution_count": null,
   "metadata": {},
   "outputs": [],
   "source": []
  }
 ],
 "metadata": {
  "kernelspec": {
   "display_name": "Python 3.9.9 64-bit ('shims')",
   "language": "python",
   "name": "python3"
  },
  "language_info": {
   "codemirror_mode": {
    "name": "ipython",
    "version": 3
   },
   "file_extension": ".py",
   "mimetype": "text/x-python",
   "name": "python",
   "nbconvert_exporter": "python",
   "pygments_lexer": "ipython3",
   "version": "3.9.9"
  },
  "orig_nbformat": 4,
  "vscode": {
   "interpreter": {
    "hash": "ac30f726a3612e8f542ca1e95ba0bd276dbd1b586db78f0bbd4db997dac7ff2d"
   }
  }
 },
 "nbformat": 4,
 "nbformat_minor": 2
}
